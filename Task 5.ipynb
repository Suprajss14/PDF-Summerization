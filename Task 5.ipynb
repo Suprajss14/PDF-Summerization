{
 "cells": [
  {
   "cell_type": "code",
   "execution_count": 3,
   "metadata": {},
   "outputs": [
    {
     "name": "stdout",
     "output_type": "stream",
     "text": [
      "WARNING:tensorflow:From c:\\Users\\supra\\AppData\\Local\\Programs\\Python\\Python310\\lib\\site-packages\\tf_keras\\src\\losses.py:2976: The name tf.losses.sparse_softmax_cross_entropy is deprecated. Please use tf.compat.v1.losses.sparse_softmax_cross_entropy instead.\n",
      "\n",
      "WARNING:tensorflow:From c:\\Users\\supra\\AppData\\Local\\Programs\\Python\\Python310\\lib\\site-packages\\tf_keras\\src\\backend.py:873: The name tf.get_default_graph is deprecated. Please use tf.compat.v1.get_default_graph instead.\n",
      "\n"
     ]
    },
    {
     "name": "stderr",
     "output_type": "stream",
     "text": [
      "All PyTorch model weights were used when initializing TFT5ForConditionalGeneration.\n",
      "\n",
      "All the weights of TFT5ForConditionalGeneration were initialized from the PyTorch model.\n",
      "If your task is similar to the task the model of the checkpoint was trained on, you can already use TFT5ForConditionalGeneration for predictions without further training.\n"
     ]
    },
    {
     "name": "stdout",
     "output_type": "stream",
     "text": [
      "Summary of the PDF (approximately 500 words):\n",
      "\n",
      "operations management is a branch of management that deals with the designing and supervision of operational processes in a business organization . it ensures that processes are planned for and executed in an efficient and effective way to satisfy the needs of the organization and its customers . the paper will then look into the operations management’s involvement in oil and gas companies .\n",
      "operations management entails the provision for and the control of activities of the production and delivery of goods and services to the final consumer . the general forces of competitive environments and the need for increased productivity and profitability have been dictating developments in the department of operations . principles of operations management have been developed to aid operations managers in improving the efficiencies of their processes .\n",
      "operations management is charged with specific duties in an organization that relates to the production of goods and services . the objectives of operations management can be classified into two categories, “customer service and resource utilization” (Kumar 12) the performance of operations activities with respect to levels of efficiencies pays a key role in balancing the two concepts, customer satisfaction and costs in resources .\n",
      "operations management in the oil and gas industry derives a lot of benefits to an organization through the application of the functions of operation managers . a commendable performance will blend the conflicting objectives of customer satisfaction and resource control to drive an organization into improved productivity and profitability levels . operations performance is also determined by the speed at which operations can be undertaken .\n"
     ]
    }
   ],
   "source": [
    "import fitz  # PyMuPDF\n",
    "from transformers import pipeline\n",
    "\n",
    "# Load the PDF file\n",
    "pdf_path = r'F:\\ResoluteAI Internship(started 16-07-2024\\Task 5\\Operations Management.pdf'  # Update the path if necessary\n",
    "pdf_document = fitz.open(pdf_path)\n",
    "text = \"\"\n",
    "\n",
    "# Extract text from each page\n",
    "for page_num in range(len(pdf_document)):\n",
    "    page = pdf_document.load_page(page_num)\n",
    "    text += page.get_text()\n",
    "\n",
    "# Initialize the summarization pipeline\n",
    "summarizer = pipeline('summarization', model='t5-large')  # Example alternative model\n",
    "\n",
    "# Define the max tokens for summarization\n",
    "max_input_length = 10024  # Reasonable limit for T5 model\n",
    "max_summary_length = 500  # Target word count for the summary\n",
    "\n",
    "# Split text into chunks to fit within model limits\n",
    "def split_text(text, max_length):\n",
    "    return [text[i:i + max_length] for i in range(0, len(text), max_length)]\n",
    "\n",
    "# Summarize each chunk and combine summaries\n",
    "chunks = split_text(text, max_input_length)\n",
    "summaries = []\n",
    "\n",
    "for chunk in chunks:\n",
    "    summary = summarizer(chunk, max_length=max_summary_length, min_length=30, do_sample=False)\n",
    "    summaries.append(summary[0]['summary_text'])\n",
    "\n",
    "# Combine all the summaries into one text\n",
    "combined_summary = '\\n'.join(summaries)  # Separate paragraphs with double newlines\n",
    "\n",
    "# Print the final summary\n",
    "print(f\"Summary of the PDF (approximately 500 words):\\n\\n{combined_summary}\")"
   ]
  }
 ],
 "metadata": {
  "kernelspec": {
   "display_name": "Python 3",
   "language": "python",
   "name": "python3"
  },
  "language_info": {
   "codemirror_mode": {
    "name": "ipython",
    "version": 3
   },
   "file_extension": ".py",
   "mimetype": "text/x-python",
   "name": "python",
   "nbconvert_exporter": "python",
   "pygments_lexer": "ipython3",
   "version": "3.10.8"
  }
 },
 "nbformat": 4,
 "nbformat_minor": 2
}
